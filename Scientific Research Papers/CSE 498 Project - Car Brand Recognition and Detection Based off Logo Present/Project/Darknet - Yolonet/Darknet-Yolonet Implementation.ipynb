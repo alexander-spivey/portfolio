{
 "cells": [
  {
   "cell_type": "code",
   "execution_count": 1,
   "metadata": {
    "colab": {
     "base_uri": "https://localhost:8080/"
    },
    "executionInfo": {
     "elapsed": 4324,
     "status": "ok",
     "timestamp": 1636739764523,
     "user": {
      "displayName": "Alexander Spivey",
      "photoUrl": "https://lh3.googleusercontent.com/a-/AOh14GirsIh48_R-bD-8yJGvPo2CPQvpoxj1Lc9Vq5AS=s64",
      "userId": "13362959215741774834"
     },
     "user_tz": 360
    },
    "id": "UqFheawYSYYa",
    "outputId": "f3fc7dff-8f63-466d-ce6e-43509009fcf6"
   },
   "outputs": [
    {
     "name": "stdout",
     "output_type": "stream",
     "text": [
      "Cloning into 'darknet'...\n",
      "remote: Enumerating objects: 15353, done.\u001b[K\n",
      "remote: Counting objects: 100% (60/60), done.\u001b[K\n",
      "remote: Compressing objects: 100% (7/7), done.\u001b[K\n",
      "remote: Total 15353 (delta 54), reused 53 (delta 53), pack-reused 15293\u001b[K\n",
      "Receiving objects: 100% (15353/15353), 13.98 MiB | 6.99 MiB/s, done.\n",
      "Resolving deltas: 100% (10323/10323), done.\n"
     ]
    }
   ],
   "source": [
    "!git clone https://github.com/AlexeyAB/darknet"
   ]
  },
  {
   "cell_type": "code",
   "execution_count": 3,
   "metadata": {
    "colab": {
     "base_uri": "https://localhost:8080/"
    },
    "executionInfo": {
     "elapsed": 248,
     "status": "ok",
     "timestamp": 1636739783313,
     "user": {
      "displayName": "Alexander Spivey",
      "photoUrl": "https://lh3.googleusercontent.com/a-/AOh14GirsIh48_R-bD-8yJGvPo2CPQvpoxj1Lc9Vq5AS=s64",
      "userId": "13362959215741774834"
     },
     "user_tz": 360
    },
    "id": "B3USSoVrSq8E",
    "outputId": "883a9a24-80b7-4720-8ecc-26ed3b07bafd"
   },
   "outputs": [
    {
     "name": "stdout",
     "output_type": "stream",
     "text": [
      "[Errno 2] No such file or directory: 'darknetx64'\n",
      "/content\n"
     ]
    }
   ],
   "source": [
    "%cd darknet\\x64"
   ]
  },
  {
   "cell_type": "code",
   "execution_count": 7,
   "metadata": {
    "colab": {
     "base_uri": "https://localhost:8080/"
    },
    "executionInfo": {
     "elapsed": 343,
     "status": "ok",
     "timestamp": 1636739824955,
     "user": {
      "displayName": "Alexander Spivey",
      "photoUrl": "https://lh3.googleusercontent.com/a-/AOh14GirsIh48_R-bD-8yJGvPo2CPQvpoxj1Lc9Vq5AS=s64",
      "userId": "13362959215741774834"
     },
     "user_tz": 360
    },
    "id": "t3B2fqYASvi4",
    "outputId": "3f6543a3-78c4-4ab9-9dde-b417640973d7"
   },
   "outputs": [
    {
     "name": "stdout",
     "output_type": "stream",
     "text": [
      "/content\n"
     ]
    }
   ],
   "source": [
    "% cd .."
   ]
  },
  {
   "cell_type": "code",
   "execution_count": 8,
   "metadata": {
    "colab": {
     "base_uri": "https://localhost:8080/"
    },
    "executionInfo": {
     "elapsed": 236,
     "status": "ok",
     "timestamp": 1636739830009,
     "user": {
      "displayName": "Alexander Spivey",
      "photoUrl": "https://lh3.googleusercontent.com/a-/AOh14GirsIh48_R-bD-8yJGvPo2CPQvpoxj1Lc9Vq5AS=s64",
      "userId": "13362959215741774834"
     },
     "user_tz": 360
    },
    "id": "In8b6WDQS2wK",
    "outputId": "895c15cd-c1c0-408f-ec16-8265576f7250"
   },
   "outputs": [
    {
     "name": "stdout",
     "output_type": "stream",
     "text": [
      "/content/darknet\n"
     ]
    }
   ],
   "source": [
    "cd darknet"
   ]
  },
  {
   "cell_type": "code",
   "execution_count": 9,
   "metadata": {
    "colab": {
     "base_uri": "https://localhost:8080/"
    },
    "executionInfo": {
     "elapsed": 233,
     "status": "ok",
     "timestamp": 1636739894572,
     "user": {
      "displayName": "Alexander Spivey",
      "photoUrl": "https://lh3.googleusercontent.com/a-/AOh14GirsIh48_R-bD-8yJGvPo2CPQvpoxj1Lc9Vq5AS=s64",
      "userId": "13362959215741774834"
     },
     "user_tz": 360
    },
    "id": "NUDNohSxTL0v",
    "outputId": "5ef3553b-db06-43f7-d033-ae5c99145f0b"
   },
   "outputs": [
    {
     "name": "stdout",
     "output_type": "stream",
     "text": [
      "/content/darknet/voc\n"
     ]
    }
   ],
   "source": [
    "cd voc"
   ]
  },
  {
   "cell_type": "code",
   "execution_count": 10,
   "metadata": {
    "colab": {
     "base_uri": "https://localhost:8080/"
    },
    "executionInfo": {
     "elapsed": 94737,
     "status": "ok",
     "timestamp": 1636739997839,
     "user": {
      "displayName": "Alexander Spivey",
      "photoUrl": "https://lh3.googleusercontent.com/a-/AOh14GirsIh48_R-bD-8yJGvPo2CPQvpoxj1Lc9Vq5AS=s64",
      "userId": "13362959215741774834"
     },
     "user_tz": 360
    },
    "id": "yK49GBRNS86f",
    "outputId": "e1b05331-034d-4520-d8d8-aca0e9ba9cd7"
   },
   "outputs": [
    {
     "name": "stdout",
     "output_type": "stream",
     "text": [
      "--2021-11-12 17:58:26--  http://pjreddie.com/media/files/VOCtrainval_11-May-2012.tar\n",
      "Resolving pjreddie.com (pjreddie.com)... 128.208.4.108\n",
      "Connecting to pjreddie.com (pjreddie.com)|128.208.4.108|:80... connected.\n",
      "HTTP request sent, awaiting response... 301 Moved Permanently\n",
      "Location: https://pjreddie.com/media/files/VOCtrainval_11-May-2012.tar [following]\n",
      "--2021-11-12 17:58:26--  https://pjreddie.com/media/files/VOCtrainval_11-May-2012.tar\n",
      "Connecting to pjreddie.com (pjreddie.com)|128.208.4.108|:443... connected.\n",
      "HTTP request sent, awaiting response... 200 OK\n",
      "Length: 1999639040 (1.9G) [application/octet-stream]\n",
      "Saving to: ‘VOCtrainval_11-May-2012.tar’\n",
      "\n",
      "VOCtrainval_11-May- 100%[===================>]   1.86G  20.4MB/s    in 94s     \n",
      "\n",
      "2021-11-12 18:00:01 (20.4 MB/s) - ‘VOCtrainval_11-May-2012.tar’ saved [1999639040/1999639040]\n",
      "\n"
     ]
    }
   ],
   "source": [
    "!wget http://pjreddie.com/media/files/VOCtrainval_11-May-2012.tar"
   ]
  },
  {
   "cell_type": "code",
   "execution_count": 14,
   "metadata": {
    "executionInfo": {
     "elapsed": 28085,
     "status": "ok",
     "timestamp": 1636740255115,
     "user": {
      "displayName": "Alexander Spivey",
      "photoUrl": "https://lh3.googleusercontent.com/a-/AOh14GirsIh48_R-bD-8yJGvPo2CPQvpoxj1Lc9Vq5AS=s64",
      "userId": "13362959215741774834"
     },
     "user_tz": 360
    },
    "id": "7mwI0V1pTzII"
   },
   "outputs": [],
   "source": [
    "import tarfile\n",
    "my_tar = tarfile.open('/content/darknet/voc/VOCtrainval_11-May-2012.tar')\n",
    "my_tar.extractall('/content/darknet/voc/') # specify which folder to extract to\n",
    "my_tar.close()"
   ]
  },
  {
   "cell_type": "code",
   "execution_count": null,
   "metadata": {
    "id": "PJWxtrYkUrko"
   },
   "outputs": [],
   "source": []
  },
  {
   "cell_type": "code",
   "execution_count": 15,
   "metadata": {
    "colab": {
     "base_uri": "https://localhost:8080/"
    },
    "executionInfo": {
     "elapsed": 948,
     "status": "ok",
     "timestamp": 1636740267373,
     "user": {
      "displayName": "Alexander Spivey",
      "photoUrl": "https://lh3.googleusercontent.com/a-/AOh14GirsIh48_R-bD-8yJGvPo2CPQvpoxj1Lc9Vq5AS=s64",
      "userId": "13362959215741774834"
     },
     "user_tz": 360
    },
    "id": "foFl2z_GTO1h",
    "outputId": "842f8adc-adbd-4996-f92a-11c839dc4e13"
   },
   "outputs": [
    {
     "name": "stdout",
     "output_type": "stream",
     "text": [
      "URL transformed to HTTPS due to an HSTS policy\n",
      "--2021-11-12 18:04:30--  https://pjreddie.com/media/files/voc_label.py\n",
      "Resolving pjreddie.com (pjreddie.com)... 128.208.4.108\n",
      "Connecting to pjreddie.com (pjreddie.com)|128.208.4.108|:443... connected.\n",
      "HTTP request sent, awaiting response... 200 OK\n",
      "Length: 2042 (2.0K) [application/octet-stream]\n",
      "Saving to: ‘voc_label.py’\n",
      "\n",
      "voc_label.py        100%[===================>]   1.99K  --.-KB/s    in 0s      \n",
      "\n",
      "2021-11-12 18:04:30 (568 MB/s) - ‘voc_label.py’ saved [2042/2042]\n",
      "\n"
     ]
    }
   ],
   "source": [
    "!wget http://pjreddie.com/media/files/voc_label.py"
   ]
  },
  {
   "cell_type": "code",
   "execution_count": 22,
   "metadata": {
    "colab": {
     "base_uri": "https://localhost:8080/"
    },
    "executionInfo": {
     "elapsed": 2532,
     "status": "ok",
     "timestamp": 1636740411888,
     "user": {
      "displayName": "Alexander Spivey",
      "photoUrl": "https://lh3.googleusercontent.com/a-/AOh14GirsIh48_R-bD-8yJGvPo2CPQvpoxj1Lc9Vq5AS=s64",
      "userId": "13362959215741774834"
     },
     "user_tz": 360
    },
    "id": "aWBv9uYEU1ru",
    "outputId": "fab77523-7246-4b28-830d-5eef3e1e1aa1"
   },
   "outputs": [
    {
     "name": "stdout",
     "output_type": "stream",
     "text": [
      "Traceback (most recent call last):\n",
      "  File \"/content/darknet/voc/voc_label.py\", line 50, in <module>\n",
      "    image_ids = open('VOCdevkit/VOC%s/ImageSets/Main/%s.txt'%(year, image_set)).read().strip().split()\n",
      "FileNotFoundError: [Errno 2] No such file or directory: 'VOCdevkit/VOC2007/ImageSets/Main/train.txt'\n"
     ]
    }
   ],
   "source": [
    "!python /content/darknet/voc/voc_label.py"
   ]
  },
  {
   "cell_type": "code",
   "execution_count": null,
   "metadata": {
    "id": "SKkXimUWU3uk"
   },
   "outputs": [],
   "source": []
  }
 ],
 "metadata": {
  "colab": {
   "authorship_tag": "ABX9TyNOMLdTWiNnYo6+2b+xWBRi",
   "name": "Untitled0.ipynb",
   "provenance": []
  },
  "kernelspec": {
   "display_name": "Python 3 (ipykernel)",
   "language": "python",
   "name": "python3"
  },
  "language_info": {
   "codemirror_mode": {
    "name": "ipython",
    "version": 3
   },
   "file_extension": ".py",
   "mimetype": "text/x-python",
   "name": "python",
   "nbconvert_exporter": "python",
   "pygments_lexer": "ipython3",
   "version": "3.9.7"
  }
 },
 "nbformat": 4,
 "nbformat_minor": 1
}
