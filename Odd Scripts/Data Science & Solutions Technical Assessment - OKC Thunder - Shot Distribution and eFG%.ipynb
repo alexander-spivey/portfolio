{
 "cells": [
  {
   "cell_type": "code",
   "execution_count": 1,
   "metadata": {},
   "outputs": [],
   "source": [
    "import numpy as np\n",
    "import matplotlib.pyplot as plt\n",
    "import seaborn as sns\n",
    "import pandas as pd\n",
    "import math"
   ]
  },
  {
   "cell_type": "markdown",
   "metadata": {},
   "source": [
    "## Read in CSV"
   ]
  },
  {
   "cell_type": "code",
   "execution_count": 2,
   "metadata": {},
   "outputs": [],
   "source": [
    "df = pd.read_csv('shots_data.csv')"
   ]
  },
  {
   "cell_type": "code",
   "execution_count": 3,
   "metadata": {},
   "outputs": [
    {
     "data": {
      "text/html": [
       "<div>\n",
       "<style scoped>\n",
       "    .dataframe tbody tr th:only-of-type {\n",
       "        vertical-align: middle;\n",
       "    }\n",
       "\n",
       "    .dataframe tbody tr th {\n",
       "        vertical-align: top;\n",
       "    }\n",
       "\n",
       "    .dataframe thead th {\n",
       "        text-align: right;\n",
       "    }\n",
       "</style>\n",
       "<table border=\"1\" class=\"dataframe\">\n",
       "  <thead>\n",
       "    <tr style=\"text-align: right;\">\n",
       "      <th></th>\n",
       "      <th>team</th>\n",
       "      <th>x</th>\n",
       "      <th>y</th>\n",
       "      <th>fgmade</th>\n",
       "    </tr>\n",
       "  </thead>\n",
       "  <tbody>\n",
       "    <tr>\n",
       "      <th>0</th>\n",
       "      <td>Team A</td>\n",
       "      <td>-23.1</td>\n",
       "      <td>3.5</td>\n",
       "      <td>0</td>\n",
       "    </tr>\n",
       "    <tr>\n",
       "      <th>1</th>\n",
       "      <td>Team A</td>\n",
       "      <td>0.0</td>\n",
       "      <td>25.1</td>\n",
       "      <td>1</td>\n",
       "    </tr>\n",
       "    <tr>\n",
       "      <th>2</th>\n",
       "      <td>Team A</td>\n",
       "      <td>0.5</td>\n",
       "      <td>1.0</td>\n",
       "      <td>1</td>\n",
       "    </tr>\n",
       "    <tr>\n",
       "      <th>3</th>\n",
       "      <td>Team A</td>\n",
       "      <td>-5.6</td>\n",
       "      <td>5.2</td>\n",
       "      <td>0</td>\n",
       "    </tr>\n",
       "    <tr>\n",
       "      <th>4</th>\n",
       "      <td>Team A</td>\n",
       "      <td>4.0</td>\n",
       "      <td>14.5</td>\n",
       "      <td>1</td>\n",
       "    </tr>\n",
       "    <tr>\n",
       "      <th>...</th>\n",
       "      <td>...</td>\n",
       "      <td>...</td>\n",
       "      <td>...</td>\n",
       "      <td>...</td>\n",
       "    </tr>\n",
       "    <tr>\n",
       "      <th>555</th>\n",
       "      <td>Team B</td>\n",
       "      <td>7.8</td>\n",
       "      <td>24.7</td>\n",
       "      <td>0</td>\n",
       "    </tr>\n",
       "    <tr>\n",
       "      <th>556</th>\n",
       "      <td>Team B</td>\n",
       "      <td>10.1</td>\n",
       "      <td>1.4</td>\n",
       "      <td>1</td>\n",
       "    </tr>\n",
       "    <tr>\n",
       "      <th>557</th>\n",
       "      <td>Team B</td>\n",
       "      <td>-17.8</td>\n",
       "      <td>-0.1</td>\n",
       "      <td>0</td>\n",
       "    </tr>\n",
       "    <tr>\n",
       "      <th>558</th>\n",
       "      <td>Team B</td>\n",
       "      <td>22.6</td>\n",
       "      <td>2.9</td>\n",
       "      <td>0</td>\n",
       "    </tr>\n",
       "    <tr>\n",
       "      <th>559</th>\n",
       "      <td>Team B</td>\n",
       "      <td>-0.7</td>\n",
       "      <td>14.7</td>\n",
       "      <td>1</td>\n",
       "    </tr>\n",
       "  </tbody>\n",
       "</table>\n",
       "<p>560 rows × 4 columns</p>\n",
       "</div>"
      ],
      "text/plain": [
       "       team     x     y  fgmade\n",
       "0    Team A -23.1   3.5       0\n",
       "1    Team A   0.0  25.1       1\n",
       "2    Team A   0.5   1.0       1\n",
       "3    Team A  -5.6   5.2       0\n",
       "4    Team A   4.0  14.5       1\n",
       "..      ...   ...   ...     ...\n",
       "555  Team B   7.8  24.7       0\n",
       "556  Team B  10.1   1.4       1\n",
       "557  Team B -17.8  -0.1       0\n",
       "558  Team B  22.6   2.9       0\n",
       "559  Team B  -0.7  14.7       1\n",
       "\n",
       "[560 rows x 4 columns]"
      ]
     },
     "execution_count": 3,
     "metadata": {},
     "output_type": "execute_result"
    }
   ],
   "source": [
    "df"
   ]
  },
  {
   "cell_type": "markdown",
   "metadata": {},
   "source": [
    "## Adding Distance Column sqrt(x^2 + y^2)"
   ]
  },
  {
   "cell_type": "code",
   "execution_count": 4,
   "metadata": {},
   "outputs": [
    {
     "data": {
      "text/html": [
       "<div>\n",
       "<style scoped>\n",
       "    .dataframe tbody tr th:only-of-type {\n",
       "        vertical-align: middle;\n",
       "    }\n",
       "\n",
       "    .dataframe tbody tr th {\n",
       "        vertical-align: top;\n",
       "    }\n",
       "\n",
       "    .dataframe thead th {\n",
       "        text-align: right;\n",
       "    }\n",
       "</style>\n",
       "<table border=\"1\" class=\"dataframe\">\n",
       "  <thead>\n",
       "    <tr style=\"text-align: right;\">\n",
       "      <th></th>\n",
       "      <th>team</th>\n",
       "      <th>x</th>\n",
       "      <th>y</th>\n",
       "      <th>fgmade</th>\n",
       "      <th>0</th>\n",
       "    </tr>\n",
       "  </thead>\n",
       "  <tbody>\n",
       "    <tr>\n",
       "      <th>0</th>\n",
       "      <td>Team A</td>\n",
       "      <td>-23.1</td>\n",
       "      <td>3.5</td>\n",
       "      <td>0</td>\n",
       "      <td>23.363647</td>\n",
       "    </tr>\n",
       "    <tr>\n",
       "      <th>1</th>\n",
       "      <td>Team A</td>\n",
       "      <td>0.0</td>\n",
       "      <td>25.1</td>\n",
       "      <td>1</td>\n",
       "      <td>25.100000</td>\n",
       "    </tr>\n",
       "    <tr>\n",
       "      <th>2</th>\n",
       "      <td>Team A</td>\n",
       "      <td>0.5</td>\n",
       "      <td>1.0</td>\n",
       "      <td>1</td>\n",
       "      <td>1.118034</td>\n",
       "    </tr>\n",
       "    <tr>\n",
       "      <th>3</th>\n",
       "      <td>Team A</td>\n",
       "      <td>-5.6</td>\n",
       "      <td>5.2</td>\n",
       "      <td>0</td>\n",
       "      <td>7.641989</td>\n",
       "    </tr>\n",
       "    <tr>\n",
       "      <th>4</th>\n",
       "      <td>Team A</td>\n",
       "      <td>4.0</td>\n",
       "      <td>14.5</td>\n",
       "      <td>1</td>\n",
       "      <td>15.041609</td>\n",
       "    </tr>\n",
       "    <tr>\n",
       "      <th>...</th>\n",
       "      <td>...</td>\n",
       "      <td>...</td>\n",
       "      <td>...</td>\n",
       "      <td>...</td>\n",
       "      <td>...</td>\n",
       "    </tr>\n",
       "    <tr>\n",
       "      <th>555</th>\n",
       "      <td>Team B</td>\n",
       "      <td>7.8</td>\n",
       "      <td>24.7</td>\n",
       "      <td>0</td>\n",
       "      <td>25.902316</td>\n",
       "    </tr>\n",
       "    <tr>\n",
       "      <th>556</th>\n",
       "      <td>Team B</td>\n",
       "      <td>10.1</td>\n",
       "      <td>1.4</td>\n",
       "      <td>1</td>\n",
       "      <td>10.196568</td>\n",
       "    </tr>\n",
       "    <tr>\n",
       "      <th>557</th>\n",
       "      <td>Team B</td>\n",
       "      <td>-17.8</td>\n",
       "      <td>-0.1</td>\n",
       "      <td>0</td>\n",
       "      <td>17.800281</td>\n",
       "    </tr>\n",
       "    <tr>\n",
       "      <th>558</th>\n",
       "      <td>Team B</td>\n",
       "      <td>22.6</td>\n",
       "      <td>2.9</td>\n",
       "      <td>0</td>\n",
       "      <td>22.785302</td>\n",
       "    </tr>\n",
       "    <tr>\n",
       "      <th>559</th>\n",
       "      <td>Team B</td>\n",
       "      <td>-0.7</td>\n",
       "      <td>14.7</td>\n",
       "      <td>1</td>\n",
       "      <td>14.716657</td>\n",
       "    </tr>\n",
       "  </tbody>\n",
       "</table>\n",
       "<p>560 rows × 5 columns</p>\n",
       "</div>"
      ],
      "text/plain": [
       "       team     x     y  fgmade          0\n",
       "0    Team A -23.1   3.5       0  23.363647\n",
       "1    Team A   0.0  25.1       1  25.100000\n",
       "2    Team A   0.5   1.0       1   1.118034\n",
       "3    Team A  -5.6   5.2       0   7.641989\n",
       "4    Team A   4.0  14.5       1  15.041609\n",
       "..      ...   ...   ...     ...        ...\n",
       "555  Team B   7.8  24.7       0  25.902316\n",
       "556  Team B  10.1   1.4       1  10.196568\n",
       "557  Team B -17.8  -0.1       0  17.800281\n",
       "558  Team B  22.6   2.9       0  22.785302\n",
       "559  Team B  -0.7  14.7       1  14.716657\n",
       "\n",
       "[560 rows x 5 columns]"
      ]
     },
     "execution_count": 4,
     "metadata": {},
     "output_type": "execute_result"
    }
   ],
   "source": [
    "distance = (df['x'] * df['x']) + (df['y'] * df['y'])\n",
    "distance = np.sqrt(distance)\n",
    "df = pd.concat([df, distance], axis = 1)\n",
    "df"
   ]
  },
  {
   "cell_type": "markdown",
   "metadata": {},
   "source": [
    "## Printing off all shots location"
   ]
  },
  {
   "cell_type": "code",
   "execution_count": 5,
   "metadata": {},
   "outputs": [
    {
     "data": {
      "text/plain": [
       "(-5.0, 30.0)"
      ]
     },
     "execution_count": 5,
     "metadata": {},
     "output_type": "execute_result"
    },
    {
     "data": {
      "image/png": "[encoded data removed]",
      "text/plain": [
       "<Figure size 432x288 with 1 Axes>"
      ]
     },
     "metadata": {
      "needs_background": "light"
     },
     "output_type": "display_data"
    }
   ],
   "source": [
    "overall = sns.scatterplot(x = df['x'], y = df['y'])\n",
    "overall.set_xlim(-25, 25)\n",
    "overall.set_ylim(-5, 30)"
   ]
  },
  {
   "cell_type": "markdown",
   "metadata": {},
   "source": [
    "## Shots Made"
   ]
  },
  {
   "cell_type": "code",
   "execution_count": 6,
   "metadata": {},
   "outputs": [
    {
     "name": "stderr",
     "output_type": "stream",
     "text": [
      "D:\\alexa\\anaconda3\\envs\\tf\\lib\\site-packages\\seaborn\\_decorators.py:36: FutureWarning: Pass the following variable as a keyword arg: x. From version 0.12, the only valid positional argument will be `data`, and passing other arguments without an explicit keyword will result in an error or misinterpretation.\n",
      "  warnings.warn(\n"
     ]
    },
    {
     "data": {
      "text/plain": [
       "<AxesSubplot:xlabel='fgmade', ylabel='count'>"
      ]
     },
     "execution_count": 6,
     "metadata": {},
     "output_type": "execute_result"
    },
    {
     "data": {
      "image/png": "[encoded data removed]",
      "text/plain": [
       "<Figure size 432x288 with 1 Axes>"
      ]
     },
     "metadata": {
      "needs_background": "light"
     },
     "output_type": "display_data"
    }
   ],
   "source": [
    "sns.countplot(df['fgmade'])"
   ]
  },
  {
   "cell_type": "markdown",
   "metadata": {},
   "source": [
    "## Querying all Corner Shots"
   ]
  },
  {
   "cell_type": "code",
   "execution_count": 7,
   "metadata": {
    "scrolled": true
   },
   "outputs": [
    {
     "name": "stderr",
     "output_type": "stream",
     "text": [
      "C:\\Users\\alexa\\AppData\\Local\\Temp/ipykernel_19732/403790134.py:1: UserWarning: Boolean Series key will be reindexed to match DataFrame index.\n",
      "  cornerPOS = df[df['x'] >= 22][df['y'] <= 7.8] #all shots shot past x 22 and less then y 7.8\n",
      "C:\\Users\\alexa\\AppData\\Local\\Temp/ipykernel_19732/403790134.py:2: UserWarning: Boolean Series key will be reindexed to match DataFrame index.\n",
      "  cornerNEG = df[df['x'] <= -22][df['y'] <= 7.8] #all shots shot past x -22 and less then y 7.8\n"
     ]
    },
    {
     "data": {
      "text/html": [
       "<div>\n",
       "<style scoped>\n",
       "    .dataframe tbody tr th:only-of-type {\n",
       "        vertical-align: middle;\n",
       "    }\n",
       "\n",
       "    .dataframe tbody tr th {\n",
       "        vertical-align: top;\n",
       "    }\n",
       "\n",
       "    .dataframe thead th {\n",
       "        text-align: right;\n",
       "    }\n",
       "</style>\n",
       "<table border=\"1\" class=\"dataframe\">\n",
       "  <thead>\n",
       "    <tr style=\"text-align: right;\">\n",
       "      <th></th>\n",
       "      <th>team</th>\n",
       "      <th>x</th>\n",
       "      <th>y</th>\n",
       "      <th>fgmade</th>\n",
       "      <th>0</th>\n",
       "    </tr>\n",
       "  </thead>\n",
       "  <tbody>\n",
       "    <tr>\n",
       "      <th>11</th>\n",
       "      <td>Team A</td>\n",
       "      <td>22.3</td>\n",
       "      <td>3.5</td>\n",
       "      <td>0</td>\n",
       "      <td>22.572993</td>\n",
       "    </tr>\n",
       "    <tr>\n",
       "      <th>22</th>\n",
       "      <td>Team A</td>\n",
       "      <td>22.5</td>\n",
       "      <td>1.8</td>\n",
       "      <td>1</td>\n",
       "      <td>22.571885</td>\n",
       "    </tr>\n",
       "    <tr>\n",
       "      <th>24</th>\n",
       "      <td>Team A</td>\n",
       "      <td>23.5</td>\n",
       "      <td>2.4</td>\n",
       "      <td>0</td>\n",
       "      <td>23.622235</td>\n",
       "    </tr>\n",
       "    <tr>\n",
       "      <th>92</th>\n",
       "      <td>Team A</td>\n",
       "      <td>22.8</td>\n",
       "      <td>3.6</td>\n",
       "      <td>1</td>\n",
       "      <td>23.082461</td>\n",
       "    </tr>\n",
       "    <tr>\n",
       "      <th>171</th>\n",
       "      <td>Team A</td>\n",
       "      <td>22.6</td>\n",
       "      <td>4.0</td>\n",
       "      <td>0</td>\n",
       "      <td>22.951253</td>\n",
       "    </tr>\n",
       "  </tbody>\n",
       "</table>\n",
       "</div>"
      ],
      "text/plain": [
       "       team     x    y  fgmade          0\n",
       "11   Team A  22.3  3.5       0  22.572993\n",
       "22   Team A  22.5  1.8       1  22.571885\n",
       "24   Team A  23.5  2.4       0  23.622235\n",
       "92   Team A  22.8  3.6       1  23.082461\n",
       "171  Team A  22.6  4.0       0  22.951253"
      ]
     },
     "execution_count": 7,
     "metadata": {},
     "output_type": "execute_result"
    }
   ],
   "source": [
    "cornerPOS = df[df['x'] >= 22][df['y'] <= 7.8] #all shots shot past x 22 and less then y 7.8\n",
    "cornerNEG = df[df['x'] <= -22][df['y'] <= 7.8] #all shots shot past x -22 and less then y 7.8\n",
    "corner = pd.concat([cornerPOS, cornerNEG])\n",
    "corner.head()"
   ]
  },
  {
   "cell_type": "markdown",
   "metadata": {},
   "source": [
    "## Plot of all Corner Shots"
   ]
  },
  {
   "cell_type": "code",
   "execution_count": 8,
   "metadata": {},
   "outputs": [
    {
     "data": {
      "text/plain": [
       "(-5.0, 30.0)"
      ]
     },
     "execution_count": 8,
     "metadata": {},
     "output_type": "execute_result"
    },
    {
     "data": {
      "image/png": "[encoded data removed]",
      "text/plain": [
       "<Figure size 432x288 with 1 Axes>"
      ]
     },
     "metadata": {
      "needs_background": "light"
     },
     "output_type": "display_data"
    }
   ],
   "source": [
    "cornersPlot = sns.scatterplot(x = corner['x'], y = corner['y'])\n",
    "cornersPlot.set_xlim(-25, 25)\n",
    "cornersPlot.set_ylim(-5, 30)"
   ]
  },
  {
   "cell_type": "markdown",
   "metadata": {},
   "source": [
    "## Querying all NonCorner Shots"
   ]
  },
  {
   "cell_type": "code",
   "execution_count": 9,
   "metadata": {},
   "outputs": [
    {
     "name": "stderr",
     "output_type": "stream",
     "text": [
      "C:\\Users\\alexa\\AppData\\Local\\Temp/ipykernel_19732/3093124798.py:1: UserWarning: Boolean Series key will be reindexed to match DataFrame index.\n",
      "  noncorner = df[df[0] >= 23.75][df['y'] > 7.8] #where distance is greater than 23.75 and y is greater than 7.8\n"
     ]
    },
    {
     "data": {
      "text/html": [
       "<div>\n",
       "<style scoped>\n",
       "    .dataframe tbody tr th:only-of-type {\n",
       "        vertical-align: middle;\n",
       "    }\n",
       "\n",
       "    .dataframe tbody tr th {\n",
       "        vertical-align: top;\n",
       "    }\n",
       "\n",
       "    .dataframe thead th {\n",
       "        text-align: right;\n",
       "    }\n",
       "</style>\n",
       "<table border=\"1\" class=\"dataframe\">\n",
       "  <thead>\n",
       "    <tr style=\"text-align: right;\">\n",
       "      <th></th>\n",
       "      <th>team</th>\n",
       "      <th>x</th>\n",
       "      <th>y</th>\n",
       "      <th>fgmade</th>\n",
       "      <th>0</th>\n",
       "    </tr>\n",
       "  </thead>\n",
       "  <tbody>\n",
       "    <tr>\n",
       "      <th>1</th>\n",
       "      <td>Team A</td>\n",
       "      <td>0.0</td>\n",
       "      <td>25.1</td>\n",
       "      <td>1</td>\n",
       "      <td>25.100000</td>\n",
       "    </tr>\n",
       "    <tr>\n",
       "      <th>9</th>\n",
       "      <td>Team A</td>\n",
       "      <td>-16.8</td>\n",
       "      <td>20.5</td>\n",
       "      <td>1</td>\n",
       "      <td>26.504528</td>\n",
       "    </tr>\n",
       "    <tr>\n",
       "      <th>17</th>\n",
       "      <td>Team A</td>\n",
       "      <td>15.2</td>\n",
       "      <td>19.7</td>\n",
       "      <td>1</td>\n",
       "      <td>24.882323</td>\n",
       "    </tr>\n",
       "    <tr>\n",
       "      <th>18</th>\n",
       "      <td>Team A</td>\n",
       "      <td>2.3</td>\n",
       "      <td>26.2</td>\n",
       "      <td>0</td>\n",
       "      <td>26.300760</td>\n",
       "    </tr>\n",
       "    <tr>\n",
       "      <th>21</th>\n",
       "      <td>Team A</td>\n",
       "      <td>-16.9</td>\n",
       "      <td>19.7</td>\n",
       "      <td>0</td>\n",
       "      <td>25.955732</td>\n",
       "    </tr>\n",
       "    <tr>\n",
       "      <th>...</th>\n",
       "      <td>...</td>\n",
       "      <td>...</td>\n",
       "      <td>...</td>\n",
       "      <td>...</td>\n",
       "      <td>...</td>\n",
       "    </tr>\n",
       "    <tr>\n",
       "      <th>541</th>\n",
       "      <td>Team B</td>\n",
       "      <td>-10.3</td>\n",
       "      <td>23.0</td>\n",
       "      <td>0</td>\n",
       "      <td>25.200992</td>\n",
       "    </tr>\n",
       "    <tr>\n",
       "      <th>545</th>\n",
       "      <td>Team B</td>\n",
       "      <td>14.1</td>\n",
       "      <td>21.3</td>\n",
       "      <td>0</td>\n",
       "      <td>25.544080</td>\n",
       "    </tr>\n",
       "    <tr>\n",
       "      <th>552</th>\n",
       "      <td>Team B</td>\n",
       "      <td>10.3</td>\n",
       "      <td>22.7</td>\n",
       "      <td>1</td>\n",
       "      <td>24.927495</td>\n",
       "    </tr>\n",
       "    <tr>\n",
       "      <th>554</th>\n",
       "      <td>Team B</td>\n",
       "      <td>20.5</td>\n",
       "      <td>14.1</td>\n",
       "      <td>0</td>\n",
       "      <td>24.880916</td>\n",
       "    </tr>\n",
       "    <tr>\n",
       "      <th>555</th>\n",
       "      <td>Team B</td>\n",
       "      <td>7.8</td>\n",
       "      <td>24.7</td>\n",
       "      <td>0</td>\n",
       "      <td>25.902316</td>\n",
       "    </tr>\n",
       "  </tbody>\n",
       "</table>\n",
       "<p>186 rows × 5 columns</p>\n",
       "</div>"
      ],
      "text/plain": [
       "       team     x     y  fgmade          0\n",
       "1    Team A   0.0  25.1       1  25.100000\n",
       "9    Team A -16.8  20.5       1  26.504528\n",
       "17   Team A  15.2  19.7       1  24.882323\n",
       "18   Team A   2.3  26.2       0  26.300760\n",
       "21   Team A -16.9  19.7       0  25.955732\n",
       "..      ...   ...   ...     ...        ...\n",
       "541  Team B -10.3  23.0       0  25.200992\n",
       "545  Team B  14.1  21.3       0  25.544080\n",
       "552  Team B  10.3  22.7       1  24.927495\n",
       "554  Team B  20.5  14.1       0  24.880916\n",
       "555  Team B   7.8  24.7       0  25.902316\n",
       "\n",
       "[186 rows x 5 columns]"
      ]
     },
     "execution_count": 9,
     "metadata": {},
     "output_type": "execute_result"
    }
   ],
   "source": [
    "noncorner = df[df[0] >= 23.75][df['y'] > 7.8] #where distance is greater than 23.75 and y is greater than 7.8\n",
    "noncorner"
   ]
  },
  {
   "cell_type": "markdown",
   "metadata": {},
   "source": [
    "## Plot of all NonCorner Shots (plus one pin spot)"
   ]
  },
  {
   "cell_type": "code",
   "execution_count": 10,
   "metadata": {},
   "outputs": [
    {
     "data": {
      "text/plain": [
       "(-5.0, 30.0)"
      ]
     },
     "execution_count": 10,
     "metadata": {},
     "output_type": "execute_result"
    },
    {
     "data": {
      "image/png": "[encoded data removed]",
      "text/plain": [
       "<Figure size 432x288 with 1 Axes>"
      ]
     },
     "metadata": {
      "needs_background": "light"
     },
     "output_type": "display_data"
    }
   ],
   "source": [
    "noncornerTEMP = noncorner.append(df.loc[508]) #I am appending this instance due to it having the lowest y shot\n",
    "# Appending it to the df now lets us plot with ylim start at -5 (for prettiness reasons)\n",
    "noncornerPlot = sns.scatterplot(x = noncornerTEMP['x'], y = noncornerTEMP['y'])\n",
    "cornersPlot.set_xlim(-25, 25)\n",
    "cornersPlot.set_ylim(-5, 30)"
   ]
  },
  {
   "cell_type": "markdown",
   "metadata": {},
   "source": [
    "## Querying all 2 Point Shots"
   ]
  },
  {
   "cell_type": "code",
   "execution_count": 11,
   "metadata": {},
   "outputs": [
    {
     "name": "stdout",
     "output_type": "stream",
     "text": [
      "                x           y      fgmade           0\n",
      "count  333.000000  333.000000  333.000000  333.000000\n",
      "mean     0.396396    6.012613    0.429429    8.570991\n",
      "std      7.116398    6.042686    0.495740    7.063429\n",
      "min    -19.500000   -0.600000    0.000000    0.223607\n",
      "25%     -1.800000    1.500000    0.000000    2.193171\n",
      "50%      0.300000    3.200000    0.000000    6.637017\n",
      "75%      3.000000    9.600000    1.000000   14.684005\n",
      "max     21.700000   21.900000    1.000000   23.231229\n"
     ]
    },
    {
     "name": "stderr",
     "output_type": "stream",
     "text": [
      "C:\\Users\\alexa\\AppData\\Local\\Temp/ipykernel_19732/3065026034.py:1: UserWarning: Boolean Series key will be reindexed to match DataFrame index.\n",
      "  twoPoint = df[df[0] < 23.75][df['x'] < 22][df['x'] > -22]\n",
      "C:\\Users\\alexa\\AppData\\Local\\Temp/ipykernel_19732/3065026034.py:1: UserWarning: Boolean Series key will be reindexed to match DataFrame index.\n",
      "  twoPoint = df[df[0] < 23.75][df['x'] < 22][df['x'] > -22]\n"
     ]
    },
    {
     "data": {
      "text/html": [
       "<div>\n",
       "<style scoped>\n",
       "    .dataframe tbody tr th:only-of-type {\n",
       "        vertical-align: middle;\n",
       "    }\n",
       "\n",
       "    .dataframe tbody tr th {\n",
       "        vertical-align: top;\n",
       "    }\n",
       "\n",
       "    .dataframe thead th {\n",
       "        text-align: right;\n",
       "    }\n",
       "</style>\n",
       "<table border=\"1\" class=\"dataframe\">\n",
       "  <thead>\n",
       "    <tr style=\"text-align: right;\">\n",
       "      <th></th>\n",
       "      <th>team</th>\n",
       "      <th>x</th>\n",
       "      <th>y</th>\n",
       "      <th>fgmade</th>\n",
       "      <th>0</th>\n",
       "    </tr>\n",
       "  </thead>\n",
       "  <tbody>\n",
       "    <tr>\n",
       "      <th>2</th>\n",
       "      <td>Team A</td>\n",
       "      <td>0.5</td>\n",
       "      <td>1.0</td>\n",
       "      <td>1</td>\n",
       "      <td>1.118034</td>\n",
       "    </tr>\n",
       "    <tr>\n",
       "      <th>3</th>\n",
       "      <td>Team A</td>\n",
       "      <td>-5.6</td>\n",
       "      <td>5.2</td>\n",
       "      <td>0</td>\n",
       "      <td>7.641989</td>\n",
       "    </tr>\n",
       "    <tr>\n",
       "      <th>4</th>\n",
       "      <td>Team A</td>\n",
       "      <td>4.0</td>\n",
       "      <td>14.5</td>\n",
       "      <td>1</td>\n",
       "      <td>15.041609</td>\n",
       "    </tr>\n",
       "    <tr>\n",
       "      <th>5</th>\n",
       "      <td>Team A</td>\n",
       "      <td>-13.6</td>\n",
       "      <td>4.0</td>\n",
       "      <td>1</td>\n",
       "      <td>14.176036</td>\n",
       "    </tr>\n",
       "    <tr>\n",
       "      <th>6</th>\n",
       "      <td>Team A</td>\n",
       "      <td>-9.0</td>\n",
       "      <td>7.2</td>\n",
       "      <td>1</td>\n",
       "      <td>11.525624</td>\n",
       "    </tr>\n",
       "    <tr>\n",
       "      <th>...</th>\n",
       "      <td>...</td>\n",
       "      <td>...</td>\n",
       "      <td>...</td>\n",
       "      <td>...</td>\n",
       "      <td>...</td>\n",
       "    </tr>\n",
       "    <tr>\n",
       "      <th>551</th>\n",
       "      <td>Team B</td>\n",
       "      <td>8.4</td>\n",
       "      <td>5.7</td>\n",
       "      <td>0</td>\n",
       "      <td>10.151355</td>\n",
       "    </tr>\n",
       "    <tr>\n",
       "      <th>553</th>\n",
       "      <td>Team B</td>\n",
       "      <td>1.1</td>\n",
       "      <td>2.3</td>\n",
       "      <td>1</td>\n",
       "      <td>2.549510</td>\n",
       "    </tr>\n",
       "    <tr>\n",
       "      <th>556</th>\n",
       "      <td>Team B</td>\n",
       "      <td>10.1</td>\n",
       "      <td>1.4</td>\n",
       "      <td>1</td>\n",
       "      <td>10.196568</td>\n",
       "    </tr>\n",
       "    <tr>\n",
       "      <th>557</th>\n",
       "      <td>Team B</td>\n",
       "      <td>-17.8</td>\n",
       "      <td>-0.1</td>\n",
       "      <td>0</td>\n",
       "      <td>17.800281</td>\n",
       "    </tr>\n",
       "    <tr>\n",
       "      <th>559</th>\n",
       "      <td>Team B</td>\n",
       "      <td>-0.7</td>\n",
       "      <td>14.7</td>\n",
       "      <td>1</td>\n",
       "      <td>14.716657</td>\n",
       "    </tr>\n",
       "  </tbody>\n",
       "</table>\n",
       "<p>333 rows × 5 columns</p>\n",
       "</div>"
      ],
      "text/plain": [
       "       team     x     y  fgmade          0\n",
       "2    Team A   0.5   1.0       1   1.118034\n",
       "3    Team A  -5.6   5.2       0   7.641989\n",
       "4    Team A   4.0  14.5       1  15.041609\n",
       "5    Team A -13.6   4.0       1  14.176036\n",
       "6    Team A  -9.0   7.2       1  11.525624\n",
       "..      ...   ...   ...     ...        ...\n",
       "551  Team B   8.4   5.7       0  10.151355\n",
       "553  Team B   1.1   2.3       1   2.549510\n",
       "556  Team B  10.1   1.4       1  10.196568\n",
       "557  Team B -17.8  -0.1       0  17.800281\n",
       "559  Team B  -0.7  14.7       1  14.716657\n",
       "\n",
       "[333 rows x 5 columns]"
      ]
     },
     "execution_count": 11,
     "metadata": {},
     "output_type": "execute_result"
    }
   ],
   "source": [
    "twoPoint = df[df[0] < 23.75][df['x'] < 22][df['x'] > -22]\n",
    "print(twoPoint.describe())\n",
    "twoPoint"
   ]
  },
  {
   "cell_type": "markdown",
   "metadata": {},
   "source": [
    "## Plot of All Two Point Shots"
   ]
  },
  {
   "cell_type": "code",
   "execution_count": 12,
   "metadata": {},
   "outputs": [
    {
     "data": {
      "text/plain": [
       "(-5.0, 30.0)"
      ]
     },
     "execution_count": 12,
     "metadata": {},
     "output_type": "execute_result"
    },
    {
     "data": {
      "image/png": "[encoded data removed]",
      "text/plain": [
       "<Figure size 432x288 with 1 Axes>"
      ]
     },
     "metadata": {
      "needs_background": "light"
     },
     "output_type": "display_data"
    }
   ],
   "source": [
    "twoPointPlot = sns.scatterplot(x = twoPoint['x'], y = twoPoint['y'])\n",
    "twoPointPlot.set_xlim(-25, 25)\n",
    "twoPointPlot.set_ylim(-5, 30)"
   ]
  },
  {
   "cell_type": "markdown",
   "metadata": {},
   "source": [
    "## Checking total instances queried and actual total instances"
   ]
  },
  {
   "cell_type": "code",
   "execution_count": 13,
   "metadata": {},
   "outputs": [
    {
     "name": "stdout",
     "output_type": "stream",
     "text": [
      "Sum: 560\t DF: 560\n"
     ]
    }
   ],
   "source": [
    "two = twoPoint['fgmade'].count()\n",
    "non = noncorner['fgmade'].count()\n",
    "cor = corner['fgmade'].count()\n",
    "sumVal = two + non + cor\n",
    "print(\"Sum: \" + str(sumVal) +\"\\t DF: \"+ str(df['fgmade'].count()))"
   ]
  },
  {
   "cell_type": "markdown",
   "metadata": {},
   "source": [
    "#### They match!"
   ]
  },
  {
   "cell_type": "markdown",
   "metadata": {},
   "source": [
    "## Shot Attempted Distribution"
   ]
  },
  {
   "cell_type": "code",
   "execution_count": 14,
   "metadata": {},
   "outputs": [],
   "source": [
    "N = pd.DataFrame(noncorner['team'].value_counts())\n",
    "C = pd.DataFrame(corner['team'].value_counts())\n",
    "T = pd.DataFrame(twoPoint['team'].value_counts())\n",
    "BN = int(N.loc['Team B'])\n",
    "AN = int(N.loc['Team A'])\n",
    "BC = int(C.loc['Team B'])\n",
    "AC = int(C.loc['Team A'])\n",
    "BT = int(T.loc['Team B'])\n",
    "AT = int(T.loc['Team A'])"
   ]
  },
  {
   "cell_type": "code",
   "execution_count": 15,
   "metadata": {},
   "outputs": [
    {
     "name": "stdout",
     "output_type": "stream",
     "text": [
      "Noncorner Team B Shot Distribution: 0.34285714285714286\n",
      "Noncorner Team A Shot Distribution: 0.32142857142857145\n",
      "Corner Team B Shot Distribution: 0.075\n",
      "Corner Team A Shot Distribution: 0.07142857142857142\n",
      "Two Point Team B Shot Distribution: 0.5821428571428572\n",
      "Two Point Team A Shot Distribution: 0.6071428571428571\n"
     ]
    }
   ],
   "source": [
    "print(\"Noncorner Team B Shot Distribution: \"+ str(BN/(BN + BC + BT)))\n",
    "print(\"Noncorner Team A Shot Distribution: \"+ str(AN/(AN + AC + AT)))\n",
    "print(\"Corner Team B Shot Distribution: \"+ str(BC/(BN + BC + BT)))\n",
    "print(\"Corner Team A Shot Distribution: \"+ str(AC/(AN + AC + AT)))\n",
    "print(\"Two Point Team B Shot Distribution: \"+ str(BT/(BN + BC + BT)))\n",
    "print(\"Two Point Team A Shot Distribution: \"+ str(AT/(AN + AC + AT)))"
   ]
  },
  {
   "cell_type": "markdown",
   "metadata": {},
   "source": [
    "## Team Shot Distribution within a Zone"
   ]
  },
  {
   "cell_type": "code",
   "execution_count": 16,
   "metadata": {},
   "outputs": [
    {
     "data": {
      "image/png": "[encoded data removed]",
      "text/plain": [
       "<Figure size 432x288 with 1 Axes>"
      ]
     },
     "metadata": {},
     "output_type": "display_data"
    }
   ],
   "source": [
    "labels = twoPoint['team'].value_counts().index\n",
    "distribution = twoPoint['team'].value_counts()\n",
    "\n",
    "plt.pie(distribution, explode = (0.01, 0.01), labels = labels, autopct='%1.1f%%', colors = ['lightblue', 'lightgreen'], )\n",
    "plt.title(\"Two Point Shot Distribution\")\n",
    "plt.show()"
   ]
  },
  {
   "cell_type": "code",
   "execution_count": 17,
   "metadata": {},
   "outputs": [
    {
     "data": {
      "image/png": "[encoded data removed]",
      "text/plain": [
       "<Figure size 432x288 with 1 Axes>"
      ]
     },
     "metadata": {},
     "output_type": "display_data"
    }
   ],
   "source": [
    "labels = noncorner['team'].value_counts().index\n",
    "distribution = noncorner['team'].value_counts()\n",
    "\n",
    "plt.pie(distribution, explode = (0.01, 0.01), labels = labels, autopct='%1.1f%%', colors = ['lightblue', 'lightgreen'], )\n",
    "plt.title(\"Non Corner 3 Pointer Shot Distribution\")\n",
    "plt.show()"
   ]
  },
  {
   "cell_type": "code",
   "execution_count": 18,
   "metadata": {},
   "outputs": [
    {
     "data": {
      "image/png": "[encoded data removed]",
      "text/plain": [
       "<Figure size 432x288 with 1 Axes>"
      ]
     },
     "metadata": {},
     "output_type": "display_data"
    }
   ],
   "source": [
    "labels = corner['team'].value_counts().index\n",
    "distribution = corner['team'].value_counts()\n",
    "\n",
    "plt.pie(distribution, explode = (0.01, 0.01), labels = labels, autopct='%1.1f%%', colors = ['lightblue', 'lightgreen'], )\n",
    "plt.title(\"Corner 3 Pointer Shot Distribution\")\n",
    "plt.show()"
   ]
  },
  {
   "cell_type": "markdown",
   "metadata": {},
   "source": [
    "## eFG%"
   ]
  },
  {
   "cell_type": "code",
   "execution_count": 19,
   "metadata": {},
   "outputs": [],
   "source": [
    "def eFG(df, isThreePointer):\n",
    "    FG = df[df['fgmade'] == 1]['fgmade'].count()\n",
    "    FGA = df['fgmade'].count()\n",
    "    if(isThreePointer):\n",
    "        PM = df[df['fgmade'] == 1]['fgmade'].count()\n",
    "    else:\n",
    "        PM = 0\n",
    "    value = (FG + (0.5 * PM))/FGA\n",
    "    return value\n",
    "\n",
    "# I might have implemented this function incorrectly due to misunderstanding of the equation, but what I am thinking is that\n",
    "# since we are calculating for each zone, the corner and noncorner shots will all be 3 pointers, and all 2 points shots will\n",
    "# be 2 respecitvely. Since that is the case, when calculating for any 3 pointer section, the number of field goals made\n",
    "# will equal the number of pointers made, since all fields goals made in corner or noncorner are all 3 pointers..."
   ]
  },
  {
   "cell_type": "code",
   "execution_count": 20,
   "metadata": {},
   "outputs": [
    {
     "data": {
      "text/plain": [
       "0.6"
      ]
     },
     "execution_count": 20,
     "metadata": {},
     "output_type": "execute_result"
    }
   ],
   "source": [
    "A_corner = corner[corner['team'] == 'Team A']\n",
    "eFG(A_corner, True)"
   ]
  },
  {
   "cell_type": "code",
   "execution_count": 21,
   "metadata": {},
   "outputs": [
    {
     "data": {
      "text/plain": [
       "0.35714285714285715"
      ]
     },
     "execution_count": 21,
     "metadata": {},
     "output_type": "execute_result"
    }
   ],
   "source": [
    "B_corner = corner[corner['team'] == 'Team B']\n",
    "eFG(B_corner, True)"
   ]
  },
  {
   "cell_type": "code",
   "execution_count": 22,
   "metadata": {},
   "outputs": [
    {
     "data": {
      "text/plain": [
       "0.48333333333333334"
      ]
     },
     "execution_count": 22,
     "metadata": {},
     "output_type": "execute_result"
    }
   ],
   "source": [
    "A_noncorner = noncorner[noncorner['team'] == 'Team A']\n",
    "eFG(A_noncorner, True)"
   ]
  },
  {
   "cell_type": "code",
   "execution_count": 23,
   "metadata": {},
   "outputs": [
    {
     "data": {
      "text/plain": [
       "0.546875"
      ]
     },
     "execution_count": 23,
     "metadata": {},
     "output_type": "execute_result"
    }
   ],
   "source": [
    "B_noncorner = noncorner[noncorner['team'] == 'Team B']\n",
    "eFG(B_noncorner, True)"
   ]
  },
  {
   "cell_type": "code",
   "execution_count": 24,
   "metadata": {},
   "outputs": [
    {
     "data": {
      "text/plain": [
       "0.4601226993865031"
      ]
     },
     "execution_count": 24,
     "metadata": {},
     "output_type": "execute_result"
    }
   ],
   "source": [
    "B_twoPoint = twoPoint[twoPoint['team'] == 'Team B']\n",
    "eFG(B_twoPoint, False)"
   ]
  },
  {
   "cell_type": "code",
   "execution_count": 25,
   "metadata": {},
   "outputs": [
    {
     "data": {
      "text/plain": [
       "0.4"
      ]
     },
     "execution_count": 25,
     "metadata": {},
     "output_type": "execute_result"
    }
   ],
   "source": [
    "A_twoPoint = twoPoint[twoPoint['team'] == 'Team A']\n",
    "eFG(A_twoPoint, False)"
   ]
  }
 ],
 "metadata": {
  "kernelspec": {
   "display_name": "Python 3 (ipykernel)",
   "language": "python",
   "name": "python3"
  },
  "language_info": {
   "codemirror_mode": {
    "name": "ipython",
    "version": 3
   },
   "file_extension": ".py",
   "mimetype": "text/x-python",
   "name": "python",
   "nbconvert_exporter": "python",
   "pygments_lexer": "ipython3",
   "version": "3.9.7"
  }
 },
 "nbformat": 4,
 "nbformat_minor": 4
}
